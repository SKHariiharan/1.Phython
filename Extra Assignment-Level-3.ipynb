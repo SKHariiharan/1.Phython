{
 "cells": [
  {
   "cell_type": "code",
   "execution_count": 3,
   "id": "937bc3bd-bc60-4913-9f6d-9eef96cbdbf9",
   "metadata": {},
   "outputs": [
    {
     "name": "stdin",
     "output_type": "stream",
     "text": [
      "Enter the number: 10\n"
     ]
    },
    {
     "name": "stdout",
     "output_type": "stream",
     "text": [
      "Correct\n"
     ]
    }
   ],
   "source": [
    "num = int (input(\"Enter the number:\"))\n",
    "if(num==10):\n",
    "    print(\"Correct\")\n",
    "else:\n",
    "    print(\"Wrong\")\n"
   ]
  },
  {
   "cell_type": "code",
   "execution_count": 4,
   "id": "1a11a77f-2162-470b-9a67-2ba6292a9f14",
   "metadata": {},
   "outputs": [
    {
     "name": "stdin",
     "output_type": "stream",
     "text": [
      "Enter the Password: HOPE@123\n"
     ]
    },
    {
     "name": "stdout",
     "output_type": "stream",
     "text": [
      "Your password is Correct\n"
     ]
    }
   ],
   "source": [
    "password = str (input(\"Enter the Password:\"))\n",
    "if(password == \"HOPE@123\" ):\n",
    "    print(\"Your password is Correct\")\n",
    "else:\n",
    "    print(\"Your password is Wrong\")"
   ]
  },
  {
   "cell_type": "code",
   "execution_count": 7,
   "id": "92e0a85d-8910-48c7-b2fa-97aea01b7359",
   "metadata": {},
   "outputs": [
    {
     "name": "stdin",
     "output_type": "stream",
     "text": [
      "Enter the your age : 20\n"
     ]
    },
    {
     "name": "stdout",
     "output_type": "stream",
     "text": [
      "Adult\n"
     ]
    }
   ],
   "source": [
    "age = int(input(\"Enter the your age :\"))\n",
    "if(age<1):\n",
    "    print(\"Baby\")\n",
    "elif(age<=10):\n",
    "    print(\"Children\")\n",
    "elif(age<=19):\n",
    "    print(\"Teen age\")\n",
    "elif(age<=35):\n",
    "    print(\"Adult\")\n",
    "elif(age<=54):\n",
    "    print(\"Citizen\")\n",
    "elif(age<=59):\n",
    "    print(\"Middle age Citizen\")\n",
    "elif(age>=60):\n",
    "    print(\"Senior Citizen\")   \n",
    "    "
   ]
  },
  {
   "cell_type": "code",
   "execution_count": 10,
   "id": "ddf1c27c-85a2-4ae2-a265-bf497cde2f72",
   "metadata": {},
   "outputs": [
    {
     "name": "stdin",
     "output_type": "stream",
     "text": [
      "Enter any number: 1\n"
     ]
    },
    {
     "name": "stdout",
     "output_type": "stream",
     "text": [
      "1 - Number is positive\n"
     ]
    }
   ],
   "source": [
    "num = int (input(\"Enter any number:\"))\n",
    "if(num>0):\n",
    "    print(num, \"- Number is positive\")\n",
    "else:\n",
    "    print(num, \"- Number is negative\")"
   ]
  },
  {
   "cell_type": "code",
   "execution_count": 13,
   "id": "ee56e1fe-0ecc-4e6e-898a-376b50992ffa",
   "metadata": {},
   "outputs": [
    {
     "name": "stdin",
     "output_type": "stream",
     "text": [
      "Enter the number: 22\n"
     ]
    },
    {
     "name": "stdout",
     "output_type": "stream",
     "text": [
      "The number is not divisible by 5\n"
     ]
    }
   ],
   "source": [
    "num = int (input(\"Enter the number:\"))\n",
    "if(num % 5==0):\n",
    "    print(\"The number is divisible by 5\")\n",
    "else:\n",
    "    print(\"The number is not divisible by 5\")"
   ]
  },
  {
   "cell_type": "code",
   "execution_count": null,
   "id": "b3e9eb7d-1a86-4e26-a31e-ec3f54e4ab46",
   "metadata": {},
   "outputs": [],
   "source": []
  }
 ],
 "metadata": {
  "kernelspec": {
   "display_name": "Python 3 (ipykernel)",
   "language": "python",
   "name": "python3"
  },
  "language_info": {
   "codemirror_mode": {
    "name": "ipython",
    "version": 3
   },
   "file_extension": ".py",
   "mimetype": "text/x-python",
   "name": "python",
   "nbconvert_exporter": "python",
   "pygments_lexer": "ipython3",
   "version": "3.12.7"
  }
 },
 "nbformat": 4,
 "nbformat_minor": 5
}
