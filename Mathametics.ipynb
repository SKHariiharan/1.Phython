{
 "cells": [
  {
   "cell_type": "code",
   "execution_count": 1,
   "id": "a5ef6019-1b28-43e4-ad0b-c1fa49f87a41",
   "metadata": {},
   "outputs": [
    {
     "name": "stdin",
     "output_type": "stream",
     "text": [
      "Enter the a = 43\n",
      "Enter the b = 34\n"
     ]
    },
    {
     "name": "stdout",
     "output_type": "stream",
     "text": [
      "add = 77\n"
     ]
    }
   ],
   "source": [
    "Num1 = int(input(\"Enter the a =\"))\n",
    "Num2 = int(input(\"Enter the b =\"))\n",
    "Add = Num1+Num2\n",
    "print(\"add =\",Add)"
   ]
  },
  {
   "cell_type": "code",
   "execution_count": 2,
   "id": "ce49f778-3303-4353-b17e-b0f4636aebd4",
   "metadata": {},
   "outputs": [
    {
     "name": "stdin",
     "output_type": "stream",
     "text": [
      "Enter the a = 43\n",
      "Enter the b = 34\n"
     ]
    },
    {
     "name": "stdout",
     "output_type": "stream",
     "text": [
      "sub = 9\n"
     ]
    }
   ],
   "source": [
    "Num1 = int(input(\"Enter the a =\"))\n",
    "Num2 = int(input(\"Enter the b =\"))\n",
    "Sub = Num1-Num2\n",
    "print(\"sub =\",Sub)"
   ]
  },
  {
   "cell_type": "code",
   "execution_count": 3,
   "id": "0a869795-e47a-4347-b3a1-d8e90b6ce5a5",
   "metadata": {},
   "outputs": [
    {
     "name": "stdin",
     "output_type": "stream",
     "text": [
      "Enter the a = 63\n",
      "Enter the b = 97\n"
     ]
    },
    {
     "name": "stdout",
     "output_type": "stream",
     "text": [
      "mul = 6111\n"
     ]
    }
   ],
   "source": [
    "Num1 = int(input(\"Enter the a =\"))\n",
    "Num2 = int(input(\"Enter the b =\"))\n",
    "Mul = Num1*Num2\n",
    "print(\"mul =\",Mul)"
   ]
  },
  {
   "cell_type": "code",
   "execution_count": 4,
   "id": "362f0dfa-1862-4303-8082-51fa3a82d2ac",
   "metadata": {},
   "outputs": [
    {
     "name": "stdin",
     "output_type": "stream",
     "text": [
      "Enter the a = 76\n",
      "Enter the b = 31\n"
     ]
    },
    {
     "name": "stdout",
     "output_type": "stream",
     "text": [
      "Floor Div = 2.4516129032258065\n"
     ]
    }
   ],
   "source": [
    "Num1 = int(input(\"Enter the a =\"))\n",
    "Num2 = int(input(\"Enter the b =\"))\n",
    "Div = Num1/Num2\n",
    "print(\"Float Div =\",Div)"
   ]
  },
  {
   "cell_type": "code",
   "execution_count": 6,
   "id": "17823885-ba55-4f00-931e-2b40a27d818a",
   "metadata": {},
   "outputs": [
    {
     "name": "stdin",
     "output_type": "stream",
     "text": [
      "Enter the a = 76\n",
      "Enter the b = 31\n"
     ]
    },
    {
     "name": "stdout",
     "output_type": "stream",
     "text": [
      "Floor Div = 2\n"
     ]
    }
   ],
   "source": [
    "Num1 = int(input(\"Enter the a =\"))\n",
    "Num2 = int(input(\"Enter the b =\"))\n",
    "Div = Num1//Num2\n",
    "print(\"Floor Div =\",Div)"
   ]
  },
  {
   "cell_type": "code",
   "execution_count": 7,
   "id": "fce4f26c-daa8-4760-a141-30c1f47022a3",
   "metadata": {},
   "outputs": [
    {
     "name": "stdin",
     "output_type": "stream",
     "text": [
      "Enter the a = 76\n",
      "Enter the b = 31\n"
     ]
    },
    {
     "name": "stdout",
     "output_type": "stream",
     "text": [
      "Modulo = 14\n"
     ]
    }
   ],
   "source": [
    "Num1 = int(input(\"Enter the a =\"))\n",
    "Num2 = int(input(\"Enter the b =\"))\n",
    "Mol = Num1 % Num2\n",
    "print(\"Modulo =\",Mol)"
   ]
  },
  {
   "cell_type": "code",
   "execution_count": 8,
   "id": "3cdcc5db-8c96-4a1f-b1c3-79377a96bd4e",
   "metadata": {},
   "outputs": [
    {
     "name": "stdin",
     "output_type": "stream",
     "text": [
      "Enter the a = 4\n",
      "Enter the b = 4\n"
     ]
    },
    {
     "name": "stdout",
     "output_type": "stream",
     "text": [
      "Power = 256\n"
     ]
    }
   ],
   "source": [
    "Num1 = int(input(\"Enter the a =\"))\n",
    "Num2 = int(input(\"Enter the b =\"))\n",
    "Pow = Num1**Num2\n",
    "print(\"Power =\",Pow)"
   ]
  },
  {
   "cell_type": "code",
   "execution_count": null,
   "id": "d4d56196-5f3a-4b7e-9d36-de12789cf7b7",
   "metadata": {},
   "outputs": [],
   "source": []
  }
 ],
 "metadata": {
  "kernelspec": {
   "display_name": "Python 3 (ipykernel)",
   "language": "python",
   "name": "python3"
  },
  "language_info": {
   "codemirror_mode": {
    "name": "ipython",
    "version": 3
   },
   "file_extension": ".py",
   "mimetype": "text/x-python",
   "name": "python",
   "nbconvert_exporter": "python",
   "pygments_lexer": "ipython3",
   "version": "3.12.7"
  }
 },
 "nbformat": 4,
 "nbformat_minor": 5
}
