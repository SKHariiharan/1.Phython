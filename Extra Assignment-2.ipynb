{
 "cells": [
  {
   "cell_type": "code",
   "execution_count": 3,
   "id": "5a1f820b-b3bf-4673-b901-dd3496571b6d",
   "metadata": {},
   "outputs": [
    {
     "name": "stdout",
     "output_type": "stream",
     "text": [
      "0\n",
      "1\n",
      "2\n",
      "3\n",
      "4\n",
      "5\n",
      "6\n",
      "7\n",
      "8\n",
      "9\n",
      "10\n",
      "11\n",
      "12\n",
      "13\n",
      "14\n",
      "15\n",
      "16\n",
      "17\n",
      "18\n",
      "19\n"
     ]
    }
   ],
   "source": [
    "# Printing numbers vertically\n",
    "for num in range(0,20):\n",
    "    print(num)"
   ]
  },
  {
   "cell_type": "code",
   "execution_count": 2,
   "id": "cadf7f04-56af-49e8-a831-9ac4f9c256f4",
   "metadata": {},
   "outputs": [
    {
     "name": "stdout",
     "output_type": "stream",
     "text": [
      "10 11 12 13 14 15 16 17 18 19 "
     ]
    }
   ],
   "source": [
    "# Printing numbers horizontally\n",
    "for num in range(10, 20):\n",
    "    print(num, end=\" \")\n"
   ]
  },
  {
   "cell_type": "code",
   "execution_count": 8,
   "id": "523fac54-612c-46a0-9a05-f0c5646d97ea",
   "metadata": {},
   "outputs": [
    {
     "name": "stdout",
     "output_type": "stream",
     "text": [
      "[10, 20, 14, 55, 43, 87, 76]\n",
      "Number of item in the List2 : 7\n"
     ]
    }
   ],
   "source": [
    "list = [10,20,14,55,43,87,76]\n",
    "print(list)\n",
    "print(\"Number of item in the List2 :\",len(list))"
   ]
  },
  {
   "cell_type": "code",
   "execution_count": 9,
   "id": "60855a3c-ae57-429c-89be-05e3e15c99bb",
   "metadata": {},
   "outputs": [
    {
     "name": "stdout",
     "output_type": "stream",
     "text": [
      "A\n",
      "R\n",
      "I\n",
      "F\n",
      "I\n",
      "C\n",
      "I\n",
      "A\n",
      "L\n",
      " \n",
      "I\n",
      "N\n",
      "T\n",
      "E\n",
      "L\n",
      "L\n",
      "I\n",
      "G\n",
      "E\n",
      "N\n",
      "C\n",
      "E\n"
     ]
    }
   ],
   "source": [
    "word = \"ARIFICIAL INTELLIGENCE\"\n",
    "for num in range(0,len(word),1):\n",
    "    print(word[num])"
   ]
  },
  {
   "cell_type": "code",
   "execution_count": 1,
   "id": "5ce44bc6-31e9-4d5f-83e5-4472189e7a17",
   "metadata": {},
   "outputs": [
    {
     "name": "stdin",
     "output_type": "stream",
     "text": [
      "-Your Name- Hariharan S\n",
      "-Your Age- 39\n",
      "-Your Profession- IT Profession\n"
     ]
    }
   ],
   "source": [
    "print = input(\"-Your Name-\")\n",
    "print = input(\"-Your Age-\")\n",
    "print = input(\"-Your Profession-\")"
   ]
  },
  {
   "cell_type": "code",
   "execution_count": 1,
   "id": "e2e20049-8ce1-4e30-bda0-7f75e3640d77",
   "metadata": {},
   "outputs": [
    {
     "name": "stdout",
     "output_type": "stream",
     "text": [
      "(1, 'Welcome', 2, 'Hope')\n"
     ]
    }
   ],
   "source": [
    "Message = (1,\"Welcome\", 2, \"Hope\")\n",
    "print (Message)"
   ]
  },
  {
   "cell_type": "code",
   "execution_count": 3,
   "id": "784adc63-f6ee-4dd3-ba92-c806ef670a48",
   "metadata": {},
   "outputs": [
    {
     "name": "stdout",
     "output_type": "stream",
     "text": [
      "(0, 1, 2, 3, 'Python', 'HOPE')\n"
     ]
    }
   ],
   "source": [
    "Message1 = (0, 1, 2, 3)\n",
    "Message2 = (\"Python\", \"HOPE\")\n",
    "Result = Message1 + Message2\n",
    "print(Result)"
   ]
  },
  {
   "cell_type": "code",
   "execution_count": 5,
   "id": "bf9c387b-0eca-4596-8534-436d4ca77a49",
   "metadata": {},
   "outputs": [
    {
     "name": "stdout",
     "output_type": "stream",
     "text": [
      "19 is a Odd Number\n",
      "25 is a Odd Number\n",
      "1 is a Odd Number\n"
     ]
    }
   ],
   "source": [
    "num = (20,10,16,19,25,1,276,188)\n",
    "for val in num:\n",
    "    if val%2!=0:\n",
    "        print(val, \"is a Odd Number\")\n"
   ]
  },
  {
   "cell_type": "code",
   "execution_count": 6,
   "id": "e79fe698-f9e4-4eae-83f1-fdbe645c93eb",
   "metadata": {},
   "outputs": [
    {
     "name": "stdout",
     "output_type": "stream",
     "text": [
      "20 is a Even Number\n",
      "10 is a Even Number\n",
      "16 is a Even Number\n",
      "276 is a Even Number\n",
      "188 is a Even Number\n"
     ]
    }
   ],
   "source": [
    "num = (20,10,16,19,25,1,276,188)\n",
    "for val in num:\n",
    "    if val%2==0:\n",
    "        print(val, \"is a Even Number\")\n"
   ]
  },
  {
   "cell_type": "code",
   "execution_count": null,
   "id": "f50cec05-cee2-4bbe-bd4d-33062a605491",
   "metadata": {},
   "outputs": [],
   "source": []
  }
 ],
 "metadata": {
  "kernelspec": {
   "display_name": "Python 3 (ipykernel)",
   "language": "python",
   "name": "python3"
  },
  "language_info": {
   "codemirror_mode": {
    "name": "ipython",
    "version": 3
   },
   "file_extension": ".py",
   "mimetype": "text/x-python",
   "name": "python",
   "nbconvert_exporter": "python",
   "pygments_lexer": "ipython3",
   "version": "3.12.7"
  }
 },
 "nbformat": 4,
 "nbformat_minor": 5
}
