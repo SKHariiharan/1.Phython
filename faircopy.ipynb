{
 "cells": [
  {
   "cell_type": "code",
   "execution_count": 1,
   "id": "936c7a5d-81e2-417a-bc7c-fb162285e4a1",
   "metadata": {},
   "outputs": [],
   "source": [
    "from multipleFunctions import multipleFunctions\n"
   ]
  },
  {
   "cell_type": "code",
   "execution_count": 2,
   "id": "71a10f8c-2dc1-4fb8-8e2d-5ef9ba5d5ad8",
   "metadata": {},
   "outputs": [
    {
     "name": "stdin",
     "output_type": "stream",
     "text": [
      "Enter any number:  43\n"
     ]
    },
    {
     "name": "stdout",
     "output_type": "stream",
     "text": [
      "The number is odd\n",
      "Result: Odd Number\n"
     ]
    }
   ],
   "source": [
    "# Call the oddEven method\n",
    "result = multipleFunctions.oddEven()\n",
    "print(\"Result:\", result)"
   ]
  },
  {
   "cell_type": "code",
   "execution_count": 3,
   "id": "b6730728-5fc2-4b3a-a55c-d8ad4ea5b75f",
   "metadata": {},
   "outputs": [
    {
     "name": "stdin",
     "output_type": "stream",
     "text": [
      "Enter the Gender:  Male\n",
      "Enter the Age:  25\n"
     ]
    },
    {
     "name": "stdout",
     "output_type": "stream",
     "text": [
      "You are eligible for Marriage\n"
     ]
    },
    {
     "data": {
      "text/plain": [
       "'Eligible'"
      ]
     },
     "execution_count": 3,
     "metadata": {},
     "output_type": "execute_result"
    }
   ],
   "source": [
    "# Call the Mrg_Eligibility method\n",
    "multipleFunctions.Mrg_Eligibility()\n"
   ]
  },
  {
   "cell_type": "code",
   "execution_count": 4,
   "id": "a5819eb7-2520-4c30-aa2a-2e3245bcf80b",
   "metadata": {},
   "outputs": [
    {
     "name": "stdout",
     "output_type": "stream",
     "text": [
      "Enter your Marks: \n"
     ]
    },
    {
     "name": "stdin",
     "output_type": "stream",
     "text": [
      "Tamil:  97\n",
      "English:  95\n",
      "Maths:  93\n",
      "Science:  99\n",
      "Social:  92\n"
     ]
    },
    {
     "name": "stdout",
     "output_type": "stream",
     "text": [
      "Total = 476\n",
      "Average = 95.2\n",
      "Returned Average: 95.2\n"
     ]
    }
   ],
   "source": [
    "# Call the calAverage method\n",
    "average = multipleFunctions.calAverage()\n",
    "print(\"Returned Average:\", average)"
   ]
  },
  {
   "cell_type": "code",
   "execution_count": 5,
   "id": "669d682d-f95b-487e-b656-1b73d6c97475",
   "metadata": {},
   "outputs": [
    {
     "name": "stdin",
     "output_type": "stream",
     "text": [
      "Enter the Height:  32\n",
      "Enter the Breadth:  34\n"
     ]
    },
    {
     "name": "stdout",
     "output_type": "stream",
     "text": [
      "Formula for the Area = (Height × Breadth) / 2\n",
      "Area of the triangle: 544.0\n"
     ]
    }
   ],
   "source": [
    "# Call the area method\n",
    "area = multipleFunctions.area()\n",
    "print(\"Area of the triangle:\", area)"
   ]
  },
  {
   "cell_type": "code",
   "execution_count": 6,
   "id": "b3f27665-87ae-4d04-a899-b0f0c8fa7723",
   "metadata": {},
   "outputs": [
    {
     "name": "stdin",
     "output_type": "stream",
     "text": [
      "Enter the Height1:  2\n",
      "Enter the Height2:  2\n",
      "Enter the Breadth:  4\n"
     ]
    },
    {
     "name": "stdout",
     "output_type": "stream",
     "text": [
      "Formula for the Perimeter = (Height1 + Height2 + Breadth)\n",
      "Perimeter of the triangle: 8\n"
     ]
    }
   ],
   "source": [
    "# Call the Perimeter method\n",
    "perimeter = multipleFunctions.Perimeter()\n",
    "print(\"Perimeter of the triangle:\", perimeter)"
   ]
  },
  {
   "cell_type": "code",
   "execution_count": null,
   "id": "2c91872b-2a40-4ca4-90a6-ef0ef78c4fc0",
   "metadata": {},
   "outputs": [],
   "source": []
  }
 ],
 "metadata": {
  "kernelspec": {
   "display_name": "Python 3 (ipykernel)",
   "language": "python",
   "name": "python3"
  },
  "language_info": {
   "codemirror_mode": {
    "name": "ipython",
    "version": 3
   },
   "file_extension": ".py",
   "mimetype": "text/x-python",
   "name": "python",
   "nbconvert_exporter": "python",
   "pygments_lexer": "ipython3",
   "version": "3.12.7"
  }
 },
 "nbformat": 4,
 "nbformat_minor": 5
}
