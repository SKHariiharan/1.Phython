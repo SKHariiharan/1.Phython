{
 "cells": [
  {
   "cell_type": "code",
   "execution_count": 1,
   "id": "41fadb0e-87ad-4ad2-96c9-b83f4a51b110",
   "metadata": {},
   "outputs": [
    {
     "name": "stdout",
     "output_type": "stream",
     "text": [
      "HOPE AI\n"
     ]
    }
   ],
   "source": [
    "print (\"HOPE AI\")"
   ]
  },
  {
   "cell_type": "code",
   "execution_count": 2,
   "id": "d8b72701-e694-4e4f-a318-e1adb5d76ffe",
   "metadata": {},
   "outputs": [
    {
     "name": "stdin",
     "output_type": "stream",
     "text": [
      "Enter your insitutue name? : HOPE AI\n"
     ]
    }
   ],
   "source": [
    "print = input(\"Enter your insitutue name? :\")"
   ]
  },
  {
   "cell_type": "code",
   "execution_count": 3,
   "id": "2c79bb27-436f-4e4d-b68a-f82880c927d7",
   "metadata": {},
   "outputs": [
    {
     "name": "stdin",
     "output_type": "stream",
     "text": [
      "Enter your name : Raj\n",
      "Enter your age : 15\n",
      "Enter your school name : Guru school\n",
      "Enter your drgree : B.E CSE\n"
     ]
    }
   ],
   "source": [
    "print = input(\"Enter your name :\")\n",
    "print = input(\"Enter your age :\")\n",
    "print = input(\"Enter your school name :\")\n",
    "print = input(\"Enter your drgree :\")"
   ]
  },
  {
   "cell_type": "code",
   "execution_count": null,
   "id": "27a5c6d9-7389-48c8-a3aa-3a4df4728d0f",
   "metadata": {},
   "outputs": [],
   "source": []
  }
 ],
 "metadata": {
  "kernelspec": {
   "display_name": "Python 3 (ipykernel)",
   "language": "python",
   "name": "python3"
  },
  "language_info": {
   "codemirror_mode": {
    "name": "ipython",
    "version": 3
   },
   "file_extension": ".py",
   "mimetype": "text/x-python",
   "name": "python",
   "nbconvert_exporter": "python",
   "pygments_lexer": "ipython3",
   "version": "3.12.7"
  }
 },
 "nbformat": 4,
 "nbformat_minor": 5
}
