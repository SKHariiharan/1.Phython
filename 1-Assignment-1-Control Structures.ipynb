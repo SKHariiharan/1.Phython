{
 "cells": [
  {
   "cell_type": "code",
   "execution_count": 1,
   "id": "a6529ff0-afbe-4f33-a988-a97510718756",
   "metadata": {},
   "outputs": [
    {
     "name": "stdout",
     "output_type": "stream",
     "text": [
      "Welcome to Assignment-1\n"
     ]
    }
   ],
   "source": [
    "print (\"Welcome to Assignment-1\")"
   ]
  },
  {
   "cell_type": "code",
   "execution_count": 11,
   "id": "be3cd8db-37a3-4dc3-b307-40e5956190b0",
   "metadata": {},
   "outputs": [
    {
     "name": "stdin",
     "output_type": "stream",
     "text": [
      "Enter the Number1 = 10\n",
      "Enter the Number2 = 30\n"
     ]
    },
    {
     "name": "stdout",
     "output_type": "stream",
     "text": [
      "Add    = 40\n"
     ]
    }
   ],
   "source": [
    "Num1 = int(input(\"Enter the Number1 =\"))\n",
    "Num2 = int(input(\"Enter the Number2 =\"))\n",
    "Add = Num1+Num2\n",
    "print(\"Add    =\",Add)"
   ]
  },
  {
   "cell_type": "code",
   "execution_count": 7,
   "id": "5914c99d-becb-45ee-a38d-ba543e7bbd0a",
   "metadata": {},
   "outputs": [
    {
     "name": "stdin",
     "output_type": "stream",
     "text": [
      "Enter the BMI Index : 34\n"
     ]
    },
    {
     "name": "stdout",
     "output_type": "stream",
     "text": [
      "Very OverWeight\n"
     ]
    }
   ],
   "source": [
    "Bmi = int(input(\"Enter the BMI Index :\"))\n",
    "if(Bmi<18):\n",
    "    print(\"Under Weight\")\n",
    "elif(Bmi<25):\n",
    "    print(\"Normal\")\n",
    "else:\n",
    "    print(\"Very OverWeight\")"
   ]
  },
  {
   "cell_type": "code",
   "execution_count": null,
   "id": "7a541382-50e6-4775-a148-0c3bd2ab1ef6",
   "metadata": {},
   "outputs": [],
   "source": []
  }
 ],
 "metadata": {
  "kernelspec": {
   "display_name": "Python 3 (ipykernel)",
   "language": "python",
   "name": "python3"
  },
  "language_info": {
   "codemirror_mode": {
    "name": "ipython",
    "version": 3
   },
   "file_extension": ".py",
   "mimetype": "text/x-python",
   "name": "python",
   "nbconvert_exporter": "python",
   "pygments_lexer": "ipython3",
   "version": "3.12.7"
  }
 },
 "nbformat": 4,
 "nbformat_minor": 5
}
