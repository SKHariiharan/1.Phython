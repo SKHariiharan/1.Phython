{
 "cells": [
  {
   "cell_type": "code",
   "execution_count": 7,
   "id": "646ad931-79ed-481c-b1c2-424361f14b30",
   "metadata": {},
   "outputs": [
    {
     "name": "stdout",
     "output_type": "stream",
     "text": [
      "Machine Learning\n",
      "Nural network\n",
      "Vision\n",
      "Robotics\n",
      "Speech recognition\n",
      "Natural Language Processing\n",
      "Subfields AI are:\n"
     ]
    }
   ],
   "source": [
    "class SubfieldsinAI():\n",
    "        def Subfield():\n",
    "            print(\"Subfields AI are:\")\n",
    "        names= [\"Machine Learning\", \"Nural network\", \"Vision\", \"Robotics\", \"Speech recognition\", \"Natural Language Processing\"]\n",
    "        for lists in names:\n",
    "            print(lists)\n",
    "        SubfieldsinAI.Subfield()"
   ]
  },
  {
   "cell_type": "code",
   "execution_count": 29,
   "id": "94054cf9-b27e-4953-b0d1-9e95551fb4b8",
   "metadata": {},
   "outputs": [
    {
     "name": "stdin",
     "output_type": "stream",
     "text": [
      "Enter the number:  52452\n"
     ]
    },
    {
     "name": "stdout",
     "output_type": "stream",
     "text": [
      "52452 is Even number\n"
     ]
    }
   ],
   "source": [
    "class OddEven:\n",
    "    def oddEven():  # Method should be defined inside the class with proper indentation\n",
    "        num = int(input(\"Enter the number: \"))\n",
    "        if num % 2 == 0:\n",
    "            print(num , \"is Even number\")\n",
    "        else:\n",
    "            print(num ,\"is Odd number\")\n",
    "\n",
    "# Call the method using the class name\n",
    "OddEven.oddEven()"
   ]
  },
  {
   "cell_type": "code",
   "execution_count": 31,
   "id": "b6364849-bb9c-491a-b54d-a3daf1868f4e",
   "metadata": {},
   "outputs": [
    {
     "name": "stdin",
     "output_type": "stream",
     "text": [
      "Enter the Gender:  Male\n",
      "Enter the Age:  20\n"
     ]
    },
    {
     "name": "stdout",
     "output_type": "stream",
     "text": [
      "You are not eligible for the Marriage\n"
     ]
    },
    {
     "data": {
      "text/plain": [
       "'Not Eligible'"
      ]
     },
     "execution_count": 31,
     "metadata": {},
     "output_type": "execute_result"
    }
   ],
   "source": [
    "class EligibilityforMarriage():\n",
    "    def Mrg_Eligibility():\n",
    "        gender = input(\"Enter the Gender: \")\n",
    "        age = int(input(\"Enter the Age: \"))\n",
    "        if gender == \"Male\":\n",
    "            if age >= 21:\n",
    "                print(\"You are eligible for the Marriage\")\n",
    "                msg = \"Eligible\"\n",
    "            else:\n",
    "                print(\"You are not eligible for the Marriage\")\n",
    "                msg = \"Not Eligible\"\n",
    "        elif gender == \"Female\":\n",
    "            if age >= 18:\n",
    "                print(\"You are eligible for the Marriage\")\n",
    "                msg = \"Eligible\"\n",
    "            else:\n",
    "                print(\"You are not eligible for the Marriage\")\n",
    "                msg = \"Not Eligible\"\n",
    "        else:\n",
    "            msg = \"Invalid Gender\"\n",
    "            print(\"Please enter a valid gender: Male or Female\")\n",
    "        return msg\n",
    "    \n",
    "EligibilityforMarriage.Mrg_Eligibility()\n",
    "    "
   ]
  },
  {
   "cell_type": "code",
   "execution_count": 33,
   "id": "4753390e-0f01-4615-9730-ee795dfb669e",
   "metadata": {},
   "outputs": [
    {
     "name": "stdout",
     "output_type": "stream",
     "text": [
      "Enter your Marks: \n"
     ]
    },
    {
     "name": "stdin",
     "output_type": "stream",
     "text": [
      "Tamil:  99\n",
      "English:  97\n",
      "Maths:  92\n",
      "Science:  87\n",
      "Social:  95\n"
     ]
    },
    {
     "name": "stdout",
     "output_type": "stream",
     "text": [
      "Total = 470\n",
      "Average = 94.0\n",
      "Returned Average = 94.0\n"
     ]
    }
   ],
   "source": [
    "class FindPercent():\n",
    "    def calAverage():\n",
    "        print(\"Enter your Marks: \")\n",
    "        Subject1 = int(input(\"Tamil: \"))\n",
    "        Subject2 = int(input(\"English: \"))\n",
    "        Subject3 = int(input(\"Maths: \"))\n",
    "        Subject4 = int(input(\"Science: \"))\n",
    "        Subject5 = int(input(\"Social: \"))\n",
    "        Total = Subject1 + Subject2 + Subject3 + Subject4 + Subject5\n",
    "        Avg = Total / 5\n",
    "        print(\"Total =\", Total)\n",
    "        print(\"Average =\", Avg)\n",
    "        return Avg  # Return the average\n",
    "    \n",
    "    # Call the function and print the returned value\n",
    "    average = FindPercent.calAverage()\n",
    "    print(\"Returned Average =\", average)\n"
   ]
  },
  {
   "cell_type": "code",
   "execution_count": 38,
   "id": "9483cd0f-2aac-47a4-982b-c6e7ffe14ff9",
   "metadata": {},
   "outputs": [
    {
     "name": "stdin",
     "output_type": "stream",
     "text": [
      "Enter the Height =  32\n",
      "Enter the Breadth =  34\n"
     ]
    },
    {
     "name": "stdout",
     "output_type": "stream",
     "text": [
      "Formula for the Area = (length × width) / 2\n",
      "Area of the triangle is =  544.0\n"
     ]
    },
    {
     "name": "stdin",
     "output_type": "stream",
     "text": [
      "Enter the Height1 =  2\n",
      "Enter the Height2 =  4\n",
      "Enter the Breadth =  4\n"
     ]
    },
    {
     "name": "stdout",
     "output_type": "stream",
     "text": [
      "Formula for the Perimeter= (Height1+Height2+Breadth)\n",
      "Perimeter of the triangle is =  10\n"
     ]
    }
   ],
   "source": [
    "class triangle():\n",
    "    def area():\n",
    "        Height = int(input(\"Enter the Height = \"))\n",
    "        Breadth = int(input(\"Enter the Breadth = \"))\n",
    "        print(\"Formula for the Area = (length × width) / 2\")\n",
    "        Area = (Height * Breadth) / 2\n",
    "        return Area\n",
    "          \n",
    "    def Perimeter():\n",
    "        Height1 = int(input(\"Enter the Height1 = \"))\n",
    "        Height2 = int(input(\"Enter the Height2 = \"))\n",
    "        Breadth = int(input(\"Enter the Breadth = \"))\n",
    "        print(\"Formula for the Perimeter= (Height1+Height2+Breadth)\")\n",
    "        perimeter = (Height1+Height2+Breadth)\n",
    "        return perimeter\n",
    "    \n",
    "    # Call the function and print the result\n",
    "AOT = triangle.area()\n",
    "print(\"Area of the triangle is = \", AOT) \n",
    "POT = triangle.Perimeter()\n",
    "print(\"Perimeter of the triangle is = \", POT)"
   ]
  },
  {
   "cell_type": "code",
   "execution_count": null,
   "id": "f4635e36-b9dc-4f5d-b11f-3c4a9e3b7c18",
   "metadata": {},
   "outputs": [],
   "source": []
  }
 ],
 "metadata": {
  "kernelspec": {
   "display_name": "Python 3 (ipykernel)",
   "language": "python",
   "name": "python3"
  },
  "language_info": {
   "codemirror_mode": {
    "name": "ipython",
    "version": 3
   },
   "file_extension": ".py",
   "mimetype": "text/x-python",
   "name": "python",
   "nbconvert_exporter": "python",
   "pygments_lexer": "ipython3",
   "version": "3.12.7"
  }
 },
 "nbformat": 4,
 "nbformat_minor": 5
}
