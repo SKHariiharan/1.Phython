{
 "cells": [
  {
   "cell_type": "code",
   "execution_count": 11,
   "id": "42133b20-c153-4f9b-a631-4e3aeedad671",
   "metadata": {},
   "outputs": [],
   "source": [
    "def Subfield():\n",
    "    print(\"Subfields AI are:\")\n",
    "    names= [\"Machine Learning\", \"Nural network\", \"Vision\", \"Robotics\", \"Speech recognition\", \"Natural Language Processing\"]\n",
    "    for lists in names:\n",
    "        print(lists)"
   ]
  },
  {
   "cell_type": "code",
   "execution_count": 12,
   "id": "949c31f3-0240-4e9c-8c41-dcc910000867",
   "metadata": {},
   "outputs": [
    {
     "name": "stdout",
     "output_type": "stream",
     "text": [
      "Subfields AI are:\n",
      "Machine Learning\n",
      "Nural network\n",
      "Vision\n",
      "Robotics\n",
      "Speech recognition\n",
      "Natural Language Processing\n"
     ]
    }
   ],
   "source": [
    "Subfield()"
   ]
  },
  {
   "cell_type": "code",
   "execution_count": 20,
   "id": "ed99b2f4-6b19-4a28-abce-7d8cce886043",
   "metadata": {},
   "outputs": [],
   "source": [
    "def oddEven():\n",
    "    num = int (input(\"Enter any number:\"))\n",
    "    if(num%2==0):\n",
    "        print(\"The number is even\")\n",
    "    else:\n",
    "        print(\"The number is odd\")"
   ]
  },
  {
   "cell_type": "code",
   "execution_count": 21,
   "id": "97afbd47-257b-4483-996d-f7c7065a6073",
   "metadata": {},
   "outputs": [
    {
     "name": "stdin",
     "output_type": "stream",
     "text": [
      "Enter any number: 347985\n"
     ]
    },
    {
     "name": "stdout",
     "output_type": "stream",
     "text": [
      "The number is odd\n"
     ]
    }
   ],
   "source": [
    "oddEven()"
   ]
  },
  {
   "cell_type": "code",
   "execution_count": 63,
   "id": "6b1b3829-c95d-4ab7-ad3f-520f0b6d085a",
   "metadata": {},
   "outputs": [
    {
     "name": "stdin",
     "output_type": "stream",
     "text": [
      "Enter the Gender:  Male\n",
      "Enter the Age:  20\n"
     ]
    },
    {
     "name": "stdout",
     "output_type": "stream",
     "text": [
      "You are not eligible for the Marriage\n",
      "Not Eligible\n"
     ]
    }
   ],
   "source": [
    "def Mrg_Eligibility():\n",
    "    gender = input(\"Enter the Gender: \")\n",
    "    age = int(input(\"Enter the Age: \"))\n",
    "    if gender == \"Male\":\n",
    "        if age >= 21:\n",
    "            print(\"You are eligible for the Marriage\")\n",
    "            msg = \"Eligible\"\n",
    "        else:\n",
    "            print(\"You are not eligible for the Marriage\")\n",
    "            msg = \"Not Eligible\"\n",
    "    elif gender == \"Female\":\n",
    "        if age >= 18:\n",
    "            print(\"You are eligible for the Marriage\")\n",
    "            msg = \"Eligible\"\n",
    "        else:\n",
    "            print(\"You are not eligible for the Marriage\")\n",
    "            msg = \"Not Eligible\"\n",
    "    else:\n",
    "        msg = \"Invalid Gender\"\n",
    "        print(\"Please enter a valid gender: Male or Female\")\n",
    "    return msg\n",
    "\n",
    "print(Mrg_Eligibility())\n"
   ]
  },
  {
   "cell_type": "code",
   "execution_count": 67,
   "id": "46e2f739-b343-458f-85ff-089f44f18e80",
   "metadata": {},
   "outputs": [
    {
     "name": "stdout",
     "output_type": "stream",
     "text": [
      "Enter your Marks: \n"
     ]
    },
    {
     "name": "stdin",
     "output_type": "stream",
     "text": [
      "Tamil 98\n",
      "English 87\n",
      "Maths 95\n",
      "Science 93\n",
      "Social 92\n"
     ]
    },
    {
     "name": "stdout",
     "output_type": "stream",
     "text": [
      "Total = 465\n",
      "Average = 93.0\n",
      "None\n"
     ]
    }
   ],
   "source": [
    "def calAverage():\n",
    "    print(\"Enter your Marks: \")\n",
    "    Subject1 = int(input (\"Tamil\"))\n",
    "    Subject2 = int(input (\"English\"))\n",
    "    Subject3 = int(input (\"Maths\"))\n",
    "    Subject4 = int(input (\"Science\"))\n",
    "    Subject5 = int(input (\"Social\"))\n",
    "    Total = Subject1+Subject2+Subject3+Subject4+Subject5\n",
    "    Avg=Total/5\n",
    "    print (\"Total =\", Total)\n",
    "    print (\"Average =\", Avg)\n",
    "print(calAverage())\n",
    "    "
   ]
  },
  {
   "cell_type": "code",
   "execution_count": 85,
   "id": "2236729d-0e7f-41a2-b91d-4cc423f86cc7",
   "metadata": {},
   "outputs": [
    {
     "name": "stdin",
     "output_type": "stream",
     "text": [
      "Enter the Height =  32\n",
      "Enter the Breadth =  34\n"
     ]
    },
    {
     "name": "stdout",
     "output_type": "stream",
     "text": [
      "Formula for the Area = (length × width) / 2\n",
      "Area of the triangle is =  544.0\n"
     ]
    },
    {
     "name": "stdin",
     "output_type": "stream",
     "text": [
      "Enter the Height1 =  2\n",
      "Enter the Height2 =  4\n",
      "Enter the Breadth =  4\n"
     ]
    },
    {
     "name": "stdout",
     "output_type": "stream",
     "text": [
      "Formula for the Perimeter= (Height1+Height2+Breadth)\n",
      "Perimeter of the triangle is =  10\n"
     ]
    }
   ],
   "source": [
    "def area():\n",
    "    Height = int(input(\"Enter the Height = \"))\n",
    "    Breadth = int(input(\"Enter the Breadth = \"))\n",
    "    print(\"Formula for the Area = (length × width) / 2\")\n",
    "    Area = (Height * Breadth) / 2\n",
    "    return Area\n",
    "\n",
    "def Perimeter():\n",
    "    Height1 = int(input(\"Enter the Height1 = \"))\n",
    "    Height2 = int(input(\"Enter the Height2 = \"))\n",
    "    Breadth = int(input(\"Enter the Breadth = \"))\n",
    "    print(\"Formula for the Perimeter= (Height1+Height2+Breadth)\")\n",
    "    perimeter = (Height1+Height2+Breadth)\n",
    "    return perimeter\n",
    "\n",
    "# Call the function and print the result\n",
    "\n",
    "print(\"Area of the triangle is = \", area())\n",
    "print(\"Perimeter of the triangle is = \", Perimeter())\n"
   ]
  },
  {
   "cell_type": "code",
   "execution_count": null,
   "id": "c4d96f69-3e48-4e58-8ed8-8d360eb9fafa",
   "metadata": {},
   "outputs": [],
   "source": []
  }
 ],
 "metadata": {
  "kernelspec": {
   "display_name": "Python 3 (ipykernel)",
   "language": "python",
   "name": "python3"
  },
  "language_info": {
   "codemirror_mode": {
    "name": "ipython",
    "version": 3
   },
   "file_extension": ".py",
   "mimetype": "text/x-python",
   "name": "python",
   "nbconvert_exporter": "python",
   "pygments_lexer": "ipython3",
   "version": "3.12.7"
  }
 },
 "nbformat": 4,
 "nbformat_minor": 5
}
